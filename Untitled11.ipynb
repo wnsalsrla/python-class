{
  "nbformat": 4,
  "nbformat_minor": 0,
  "metadata": {
    "colab": {
      "provenance": [],
      "authorship_tag": "ABX9TyNmwRg4PZm8eN8pwEQmMJgv",
      "include_colab_link": true
    },
    "kernelspec": {
      "name": "python3",
      "display_name": "Python 3"
    },
    "language_info": {
      "name": "python"
    }
  },
  "cells": [
    {
      "cell_type": "markdown",
      "metadata": {
        "id": "view-in-github",
        "colab_type": "text"
      },
      "source": [
        "<a href=\"https://colab.research.google.com/github/wnsalsrla/python-class/blob/main/Untitled11.ipynb\" target=\"_parent\"><img src=\"https://colab.research.google.com/assets/colab-badge.svg\" alt=\"Open In Colab\"/></a>"
      ]
    },
    {
      "cell_type": "code",
      "execution_count": 2,
      "metadata": {
        "colab": {
          "base_uri": "https://localhost:8080/"
        },
        "id": "bCm3wpbZskue",
        "outputId": "4e9404de-48dd-4baf-cf2c-df09ea7fb3d3"
      },
      "outputs": [
        {
          "output_type": "stream",
          "name": "stdout",
          "text": [
            "test\n",
            "test.~~\n",
            "test!\n"
          ]
        }
      ],
      "source": [
        "\n",
        "\n",
        "a = 'test'\n",
        "b = '~~.test.~~'\n",
        "c = '~test!'\n",
        "\n",
        "print(a.lstrip())\n",
        "print(b.lstrip('~. '))\n",
        "print(c.lstrip('~!'))\n"
      ]
    },
    {
      "cell_type": "code",
      "source": [
        "\n",
        "\n",
        "a = 'test'\n",
        "b = '~~.test.~~'\n",
        "c = '~test!'\n",
        "\n",
        "print(a.rstrip())\n",
        "print(b.rstrip('~ '))\n",
        "print(c.rstrip('~!'))"
      ],
      "metadata": {
        "colab": {
          "base_uri": "https://localhost:8080/"
        },
        "id": "VSoJVvwss_Dd",
        "outputId": "054649f7-77ff-4f9d-ca3f-25e7a82be592"
      },
      "execution_count": 3,
      "outputs": [
        {
          "output_type": "stream",
          "name": "stdout",
          "text": [
            "test\n",
            "~~.test.\n",
            "~test\n"
          ]
        }
      ]
    },
    {
      "cell_type": "code",
      "source": [
        "\n",
        "\n",
        "a = ' test'\n",
        "b = '~~.test.~~ '\n",
        "c = '~test!'\n",
        "\n",
        "print(a.strip())\n",
        "print(b.strip('~ '))\n",
        "print(c.strip('~!'))\n",
        ""
      ],
      "metadata": {
        "colab": {
          "base_uri": "https://localhost:8080/"
        },
        "id": "_CYHNkyWtB67",
        "outputId": "a6262d50-10e4-4402-bce7-b84417e6800b"
      },
      "execution_count": 4,
      "outputs": [
        {
          "output_type": "stream",
          "name": "stdout",
          "text": [
            "test\n",
            ".test.\n",
            "test\n"
          ]
        }
      ]
    },
    {
      "cell_type": "code",
      "source": [
        "\n",
        "text = ' Water boils at 100 degrees '\n",
        "print('[' + text.rstrip() + ']')\n",
        "print('[' + text.lstrip() + ']')\n",
        "print('[' + text.strip() + ']')"
      ],
      "metadata": {
        "colab": {
          "base_uri": "https://localhost:8080/"
        },
        "id": "-qjKQiYltS4a",
        "outputId": "f9bc6a70-75be-4977-d008-34d4ad5222c0"
      },
      "execution_count": 6,
      "outputs": [
        {
          "output_type": "stream",
          "name": "stdout",
          "text": [
            "[ Water boils at 100 degrees]\n",
            "[Water boils at 100 degrees ]\n",
            "[Water boils at 100 degrees]\n"
          ]
        }
      ]
    },
    {
      "cell_type": "code",
      "source": [
        "\n",
        "\n",
        "text = '0000000Water boils at 100 degrees 000'\n",
        "print(text.lstrip('0'))\n",
        "print(text.rstrip('0'))\n",
        "print(text.strip('0'))\n",
        "\n",
        "text = \",,,,,123.....water....pp\"\n",
        "print(text.lstrip(',123.p'))\n",
        "print(text.rstrip(',123.p'))\n",
        "print(text.strip(',123.p'))\n",
        "\n",
        "text = ' Water boils at 100 degrees '\n",
        "print(text.lstrip(' Water'))\n",
        "print(text.rstrip(' degrees '))\n",
        "print(text.strip(' degrees '))"
      ],
      "metadata": {
        "colab": {
          "base_uri": "https://localhost:8080/"
        },
        "id": "NtHiO1-vtZwW",
        "outputId": "a6c33f39-f157-47bc-e2b8-98e09267b614"
      },
      "execution_count": 7,
      "outputs": [
        {
          "output_type": "stream",
          "name": "stdout",
          "text": [
            "Water boils at 100 degrees 000\n",
            "0000000Water boils at 100 degrees \n",
            "Water boils at 100 degrees \n",
            "water....pp\n",
            ",,,,,123.....water\n",
            "water\n",
            "boils at 100 degrees \n",
            " Water boils at 100\n",
            "Water boils at 100\n"
          ]
        }
      ]
    },
    {
      "cell_type": "code",
      "source": [
        "\n",
        "\n",
        "txt = \"  Hz  \"\n",
        "x = txt.isspace()\n",
        "print(x)\n",
        "\n",
        "\n",
        "sentence = input(\"문자열을 입력하시오: \")\n",
        "table = { \"알파벳\" : 0, \"숫자\" : 0, \"빈칸\" : 0 }\n",
        "\n",
        "for i in sentence :\n",
        "    if (i.isalpha()):\n",
        "        table[\"알파벳\"] += 1\n",
        "    elif i.isdigit():\n",
        "        table[\"숫자\"] += 1\n",
        "    elif i.isspace():"
      ],
      "metadata": {
        "id": "hvdEBhv-tj9B"
      },
      "execution_count": null,
      "outputs": []
    },
    {
      "cell_type": "code",
      "source": [
        "\n",
        "\n",
        "### 우측 정렬 예\n",
        "s = '가나다라'\n",
        "n = 7\n",
        "\n",
        "answer = ''\n",
        "for i in range(n-len(s)): # 문자열의 앞을 빈 문자열로 채우는 for 문\n",
        "    answer += ' '\n",
        "answer += s"
      ],
      "metadata": {
        "id": "3Z-AUjS6tvhd"
      },
      "execution_count": 11,
      "outputs": []
    },
    {
      "cell_type": "code",
      "source": [
        "\n",
        "\n",
        "s = '가나다라'\n",
        "n = 20\n",
        "\n",
        "print(s.ljust(n)) # 좌측 정렬\n",
        "\n",
        "print(s.center(n)) # 가운데 정렬\n",
        "\n",
        "print(s.rjust(n)) # 우측 정렬"
      ],
      "metadata": {
        "colab": {
          "base_uri": "https://localhost:8080/"
        },
        "id": "bJfhSJv_tzZ8",
        "outputId": "c4bad7d2-a625-4789-8f57-e7f31a2c486f"
      },
      "execution_count": 12,
      "outputs": [
        {
          "output_type": "stream",
          "name": "stdout",
          "text": [
            "가나다라                \n",
            "        가나다라        \n",
            "                가나다라\n"
          ]
        }
      ]
    },
    {
      "cell_type": "code",
      "source": [
        "\n",
        "\n",
        "s = \"a b c d e f g\"\n",
        "print(f's         : {s}')\n",
        "\n",
        "r = s.split()\n",
        "print(f's.split() : {r}')"
      ],
      "metadata": {
        "colab": {
          "base_uri": "https://localhost:8080/"
        },
        "id": "jsvFjzYet4H1",
        "outputId": "5fbb7ede-d19d-40d9-b566-79dd4e2b12bc"
      },
      "execution_count": 13,
      "outputs": [
        {
          "output_type": "stream",
          "name": "stdout",
          "text": [
            "s         : a b c d e f g\n",
            "s.split() : ['a', 'b', 'c', 'd', 'e', 'f', 'g']\n"
          ]
        }
      ]
    },
    {
      "cell_type": "code",
      "source": [
        "\n",
        "\n",
        "s = \"aa.bb.cc.dd.ee.ff.gg\"\n",
        "print(f's                : {s}')\n",
        "\n",
        "r0 = s.split()\n",
        "r1 = s.split('.')\n",
        "r2 = s.split(sep='.')\n",
        "print(f\"s.split()        : {r0}\")\n",
        "print(f\"s.split('.')     : {r1}\")\n",
        "print(f\"s.split(sep='.') : {r2}\")"
      ],
      "metadata": {
        "colab": {
          "base_uri": "https://localhost:8080/"
        },
        "id": "EujuFAfVt7Wc",
        "outputId": "35cb9846-9b51-4767-9ec8-03820d468371"
      },
      "execution_count": 14,
      "outputs": [
        {
          "output_type": "stream",
          "name": "stdout",
          "text": [
            "s                : aa.bb.cc.dd.ee.ff.gg\n",
            "s.split()        : ['aa.bb.cc.dd.ee.ff.gg']\n",
            "s.split('.')     : ['aa', 'bb', 'cc', 'dd', 'ee', 'ff', 'gg']\n",
            "s.split(sep='.') : ['aa', 'bb', 'cc', 'dd', 'ee', 'ff', 'gg']\n"
          ]
        }
      ]
    },
    {
      "cell_type": "code",
      "source": [
        "\n",
        "\n",
        "s = \"aa.bb.cc.BlockDMask.ee.ff.gg.python.example\"\n",
        "print(f'{s}')\n",
        "\n",
        "r0 = s.split()\n",
        "r1 = s.split('.', 3)\n",
        "r2 = s.split(sep='.', maxsplit=3)\n",
        "r3 = s.split('.', maxsplit=3)\n",
        "print(f\"\\ns.split()\\n{r0}\")\n",
        "print(f\"\\ns.split('.', 3)\\n{r1}\")\n",
        "print(f\"\\ns.split(sep='.', maxsplit=3)\\n{r2}\")\n",
        "print(f\"\\ns.split('.', maxsplit=3)\\n{r3}\")\n",
        ""
      ],
      "metadata": {
        "colab": {
          "base_uri": "https://localhost:8080/"
        },
        "id": "hss-TyYjt9tl",
        "outputId": "4465238f-6ce3-4396-c688-1c498b595a19"
      },
      "execution_count": 15,
      "outputs": [
        {
          "output_type": "stream",
          "name": "stdout",
          "text": [
            "aa.bb.cc.BlockDMask.ee.ff.gg.python.example\n",
            "\n",
            "s.split()\n",
            "['aa.bb.cc.BlockDMask.ee.ff.gg.python.example']\n",
            "\n",
            "s.split('.', 3)\n",
            "['aa', 'bb', 'cc', 'BlockDMask.ee.ff.gg.python.example']\n",
            "\n",
            "s.split(sep='.', maxsplit=3)\n",
            "['aa', 'bb', 'cc', 'BlockDMask.ee.ff.gg.python.example']\n",
            "\n",
            "s.split('.', maxsplit=3)\n",
            "['aa', 'bb', 'cc', 'BlockDMask.ee.ff.gg.python.example']\n"
          ]
        }
      ]
    },
    {
      "cell_type": "code",
      "source": [
        "\n",
        "g = 'Milk\\nChicken\\r\\nBread\\rButter'\n",
        "\n",
        "print(g.splitlines())\n",
        "print(g.splitlines(True))\n",
        "\n",
        "g = 'Milk Chicken Bread Butter'\n",
        "print(g.splitlines())"
      ],
      "metadata": {
        "colab": {
          "base_uri": "https://localhost:8080/"
        },
        "id": "mYwcDoLbuDG6",
        "outputId": "582462c7-5f84-4d6d-f293-af5736cb0945"
      },
      "execution_count": 16,
      "outputs": [
        {
          "output_type": "stream",
          "name": "stdout",
          "text": [
            "['Milk', 'Chicken', 'Bread', 'Butter']\n",
            "['Milk\\n', 'Chicken\\r\\n', 'Bread\\r', 'Butter']\n",
            "['Milk Chicken Bread Butter']\n"
          ]
        }
      ]
    },
    {
      "cell_type": "code",
      "source": [
        "\n",
        "\n",
        "text = '123,456,789,999'\n",
        "\n",
        "replaceAll= text.replace(\",\",\"\")\n",
        "replace_t1 = text.replace(\",\", \"\",1)\n",
        "replace_t2 = text.replace(\",\", \"\",2)\n",
        "replace_t3 = text.replace(\",\", \"\",3)\n",
        "print(\"결과 :\")\n",
        "print(replaceAll)\n",
        "print(replace_t1)\n",
        "print(replace_t2)\n",
        "print(replace_t3)"
      ],
      "metadata": {
        "colab": {
          "base_uri": "https://localhost:8080/"
        },
        "id": "ue3eqQeuuGXl",
        "outputId": "ef2ff32f-72d5-4091-e468-76b19ce74063"
      },
      "execution_count": 17,
      "outputs": [
        {
          "output_type": "stream",
          "name": "stdout",
          "text": [
            "결과 :\n",
            "123456789999\n",
            "123456,789,999\n",
            "123456789,999\n",
            "123456789999\n"
          ]
        }
      ]
    },
    {
      "cell_type": "code",
      "source": [
        "\n",
        "\n",
        "a = ['a', 'b', 'c', 'd', '1', '2', '3']\n",
        "print(a)\n",
        "print()\n",
        "\n",
        "# 리스트를 문자열로 : join 이용\n",
        "result1 = \"\".join(a)\n",
        "print(result1)\n",
        "\n",
        "\n",
        "# 리스트를 문자열로 : 하나하나 문자열을 더해서.\n",
        "result2 = ''\n",
        "for v in a:\n",
        "    result2 += v\n",
        "\n",
        "print(result2)"
      ],
      "metadata": {
        "colab": {
          "base_uri": "https://localhost:8080/"
        },
        "id": "SfBviVqTuLtc",
        "outputId": "8664d547-0ebc-4fdb-b0bb-28200b12c39d"
      },
      "execution_count": 18,
      "outputs": [
        {
          "output_type": "stream",
          "name": "stdout",
          "text": [
            "['a', 'b', 'c', 'd', '1', '2', '3']\n",
            "\n",
            "abcd123\n",
            "abcd123\n"
          ]
        }
      ]
    },
    {
      "cell_type": "code",
      "source": [
        "\n",
        "print( \"3\".zfill(3) )\n",
        "\n",
        "print( \"s\".zfill(4) )\n",
        "\n",
        "\n",
        "for x in range(3):\n",
        "    print( str(x).zfill(4) )\n",
        "\n",
        "\n",
        "str = '1234'\n",
        "str_zero = str.zfill(8)\n",
        "print(str_zero)"
      ],
      "metadata": {
        "colab": {
          "base_uri": "https://localhost:8080/"
        },
        "id": "K6xl2rWQuOah",
        "outputId": "685fd446-3a0f-45a1-acc4-7318b99f6c73"
      },
      "execution_count": 19,
      "outputs": [
        {
          "output_type": "stream",
          "name": "stdout",
          "text": [
            "003\n",
            "000s\n",
            "0000\n",
            "0001\n",
            "0002\n",
            "00001234\n"
          ]
        }
      ]
    },
    {
      "cell_type": "code",
      "source": [
        "a=\"abc\"\n",
        "\n",
        "print(a.rjust(10))\n",
        "\n",
        "print(a.rjust(10,'#'))\n",
        "\n",
        "b=\"def\"\n",
        "\n",
        "print(b.ljust(15))\n",
        "\n",
        "print(b.ljust(15,'k'))"
      ],
      "metadata": {
        "colab": {
          "base_uri": "https://localhost:8080/"
        },
        "id": "RuSoVQQauQkw",
        "outputId": "8c653862-1474-4d16-cd8c-7e016b004c77"
      },
      "execution_count": 20,
      "outputs": [
        {
          "output_type": "stream",
          "name": "stdout",
          "text": [
            "       abc\n",
            "#######abc\n",
            "def            \n",
            "defkkkkkkkkkkkk\n"
          ]
        }
      ]
    }
  ]
}