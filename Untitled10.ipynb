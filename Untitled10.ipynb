{
  "nbformat": 4,
  "nbformat_minor": 0,
  "metadata": {
    "colab": {
      "provenance": [],
      "authorship_tag": "ABX9TyPAUIkRECh1hbyXaciAmEP/",
      "include_colab_link": true
    },
    "kernelspec": {
      "name": "python3",
      "display_name": "Python 3"
    },
    "language_info": {
      "name": "python"
    }
  },
  "cells": [
    {
      "cell_type": "markdown",
      "metadata": {
        "id": "view-in-github",
        "colab_type": "text"
      },
      "source": [
        "<a href=\"https://colab.research.google.com/github/wnsalsrla/python-class/blob/main/Untitled10.ipynb\" target=\"_parent\"><img src=\"https://colab.research.google.com/assets/colab-badge.svg\" alt=\"Open In Colab\"/></a>"
      ]
    },
    {
      "cell_type": "code",
      "execution_count": 1,
      "metadata": {
        "colab": {
          "base_uri": "https://localhost:8080/"
        },
        "id": "AecDKS1cehXv",
        "outputId": "ced5e76e-238a-4d92-942b-c3672475ad27"
      },
      "outputs": [
        {
          "output_type": "stream",
          "name": "stdout",
          "text": [
            "True\n",
            "True\n",
            "False\n",
            "False\n",
            "True\n",
            "True\n"
          ]
        }
      ],
      "source": [
        "\n",
        "text1 = \"네이스123\"\n",
        "text2 = \"123123\"\n",
        "text3 = \"!@#$\"\n",
        "text4 = \"!@#$1234\"\n",
        "text5 = \"wtf\"\n",
        "text6 = \"wtf123123\"\n",
        "print(text1.isalnum())\n",
        "print(text2.isalnum())\n",
        "print(text3.isalnum())\n",
        "print(text4.isalnum())\n",
        "print(text5.isalnum())\n",
        "print(text6.isalnum())"
      ]
    },
    {
      "cell_type": "code",
      "source": [
        "text = \"#^&89627486826186e789678&*^@q*638E678{스\"\n",
        "text1 = \"네이스\"\n",
        "text2 = \"123123\"\n",
        "text3 = \"!@#$\"\n",
        "check = \"\"\n",
        "print(text1.isalpha())\n",
        "print(text2.isalpha())\n",
        "print(text3.isalpha())\n",
        "for i in text:\n",
        "\tif i.isalpha():\n",
        "\t\tcheck += i\n",
        "print(check"
      ],
      "metadata": {
        "colab": {
          "base_uri": "https://localhost:8080/",
          "height": 110
        },
        "id": "OY2RnzFQex82",
        "outputId": "99c486df-b360-420c-9e53-5d3a7befadaa"
      },
      "execution_count": 2,
      "outputs": [
        {
          "output_type": "error",
          "ename": "SyntaxError",
          "evalue": "incomplete input (<ipython-input-2-a4738d988871>, line 12)",
          "traceback": [
            "\u001b[0;36m  File \u001b[0;32m\"<ipython-input-2-a4738d988871>\"\u001b[0;36m, line \u001b[0;32m12\u001b[0m\n\u001b[0;31m    print(check\u001b[0m\n\u001b[0m               ^\u001b[0m\n\u001b[0;31mSyntaxError\u001b[0m\u001b[0;31m:\u001b[0m incomplete input\n"
          ]
        }
      ]
    },
    {
      "cell_type": "code",
      "source": [
        "\n",
        "a= \"LeeMinJun\" # 문자로만 이루어짐\n",
        "b = \"175cm\" # 문자 + 숫자\n",
        "c = \"12321\" # 숫자\n",
        "d = \"-69\" # 음수\n",
        "e = \"9.87\" # 소수점\n",
        "f = \"3²\" # 3의 2제곱 기호 숫자\n",
        "g = \"⅔\" # 수학 기호 숫자 2/3\n",
        "h = \"0\" # 0\n",
        "i = \"0123\" # 0 으로 시작한 숫자\n",
        "\n",
        "# str.isdigit(\"문자열\")\n",
        "print(f\"str.isdigit('{a}') : {str.isdigit(a)}\")\n",
        "print(f\"str.isdigit('{b}') : {str.isdigit(b)}\")\n",
        "print(f\"str.isdigit('{c}') : {str.isdigit(c)}\")\n",
        "print(f\"str.isdigit('{d}') : {str.isdigit(d)}\")\n",
        "print(f\"str.isdigit('{e}') : {str.isdigit(e)}\")\n",
        "print(f\"str.isdigit('{f}') : {str.isdigit(f)}\")\n",
        "print(f\"str.isdigit('{g}') : {str.isdigit(g)}\")\n",
        "print(f\"str.isdigit('{h}') : {str.isdigit(h)}\")\n",
        "print(f\"str.isdigit('{i}') : {str.isdigit(i)}\")\n",
        "print()\n",
        "\n",
        "# \"문자열\".isdigit()\n",
        "print(f\"'{a}'.isdigit() : {a.isdigit()}\")\n",
        "print(f\"'{b}'.isdigit() : {b.isdigit()}\")\n",
        "print(f\"'{c}'.isdigit() : {c.isdigit()}\")\n",
        "print(f\"'{d}'.isdigit() : {d.isdigit()}\")\n",
        "print(f\"'{e}'.isdigit() : {e.isdigit()}\")\n",
        "print(f\"'{f}'.isdigit() : {f.isdigit()}\")\n",
        "print(f\"'{g}'.isdigit() : {g.isdigit()}\")\n",
        "print(f\"'{h}'.isdigit() : {h.isdigit()}\")\n",
        "print(f\"'{i}'.isdigit() : {i.isdigit()}\")"
      ],
      "metadata": {
        "colab": {
          "base_uri": "https://localhost:8080/"
        },
        "id": "G3TuNcHbe339",
        "outputId": "979c3e9a-168c-46cb-c30e-f326def4b896"
      },
      "execution_count": 3,
      "outputs": [
        {
          "output_type": "stream",
          "name": "stdout",
          "text": [
            "str.isdigit('LeeMinJun') : False\n",
            "str.isdigit('175cm') : False\n",
            "str.isdigit('12321') : True\n",
            "str.isdigit('-69') : False\n",
            "str.isdigit('9.87') : False\n",
            "str.isdigit('3²') : True\n",
            "str.isdigit('⅔') : False\n",
            "str.isdigit('0') : True\n",
            "str.isdigit('0123') : True\n",
            "\n",
            "'LeeMinJun'.isdigit() : False\n",
            "'175cm'.isdigit() : False\n",
            "'12321'.isdigit() : True\n",
            "'-69'.isdigit() : False\n",
            "'9.87'.isdigit() : False\n",
            "'3²'.isdigit() : True\n",
            "'⅔'.isdigit() : False\n",
            "'0'.isdigit() : True\n",
            "'0123'.isdigit() : True\n"
          ]
        }
      ]
    },
    {
      "cell_type": "code",
      "source": [
        "a = '12345678'\n",
        "print(a.isdigit())\n",
        "print(a.isdecimal())\n",
        "print(a.isnumeric())\n",
        ""
      ],
      "metadata": {
        "colab": {
          "base_uri": "https://localhost:8080/"
        },
        "id": "tkF_fcG6e6vR",
        "outputId": "a3bbaaa9-ad14-4ef8-9072-7b23de97b9ca"
      },
      "execution_count": 4,
      "outputs": [
        {
          "output_type": "stream",
          "name": "stdout",
          "text": [
            "True\n",
            "True\n",
            "True\n"
          ]
        }
      ]
    },
    {
      "cell_type": "code",
      "source": [
        "\n",
        "x = '3²'\n",
        "print(x.isdigit())\n",
        "# True\n",
        "print(x.isdecimal())\n",
        "# False\n",
        "print(x.isnumeric())\n",
        "int(x)\n",
        "# ERROR!!!!"
      ],
      "metadata": {
        "colab": {
          "base_uri": "https://localhost:8080/",
          "height": 255
        },
        "id": "EF-Y9R1ue_uw",
        "outputId": "199d140b-c9ea-4b01-e94c-e185f92e9d7a"
      },
      "execution_count": 5,
      "outputs": [
        {
          "output_type": "stream",
          "name": "stdout",
          "text": [
            "True\n",
            "False\n",
            "True\n"
          ]
        },
        {
          "output_type": "error",
          "ename": "ValueError",
          "evalue": "invalid literal for int() with base 10: '3²'",
          "traceback": [
            "\u001b[0;31m---------------------------------------------------------------------------\u001b[0m",
            "\u001b[0;31mValueError\u001b[0m                                Traceback (most recent call last)",
            "\u001b[0;32m<ipython-input-5-72cad212c54b>\u001b[0m in \u001b[0;36m<cell line: 7>\u001b[0;34m()\u001b[0m\n\u001b[1;32m      5\u001b[0m \u001b[0;31m# False\u001b[0m\u001b[0;34m\u001b[0m\u001b[0;34m\u001b[0m\u001b[0m\n\u001b[1;32m      6\u001b[0m \u001b[0mprint\u001b[0m\u001b[0;34m(\u001b[0m\u001b[0mx\u001b[0m\u001b[0;34m.\u001b[0m\u001b[0misnumeric\u001b[0m\u001b[0;34m(\u001b[0m\u001b[0;34m)\u001b[0m\u001b[0;34m)\u001b[0m\u001b[0;34m\u001b[0m\u001b[0;34m\u001b[0m\u001b[0m\n\u001b[0;32m----> 7\u001b[0;31m \u001b[0mint\u001b[0m\u001b[0;34m(\u001b[0m\u001b[0mx\u001b[0m\u001b[0;34m)\u001b[0m\u001b[0;34m\u001b[0m\u001b[0;34m\u001b[0m\u001b[0m\n\u001b[0m\u001b[1;32m      8\u001b[0m \u001b[0;31m# ERROR!!!!\u001b[0m\u001b[0;34m\u001b[0m\u001b[0;34m\u001b[0m\u001b[0m\n",
            "\u001b[0;31mValueError\u001b[0m: invalid literal for int() with base 10: '3²'"
          ]
        }
      ]
    },
    {
      "cell_type": "code",
      "source": [
        "a = \"I Love QuartZ\"\n",
        "\n",
        "print( a.islower() )\n",
        "print( a.isupper() )\n",
        "print( a.upper() )\n",
        "print( a.lower() )"
      ],
      "metadata": {
        "colab": {
          "base_uri": "https://localhost:8080/"
        },
        "id": "YLHSensVfCEp",
        "outputId": "d98519f7-3fb2-4d80-cb2b-f72f0c34ddd6"
      },
      "execution_count": 6,
      "outputs": [
        {
          "output_type": "stream",
          "name": "stdout",
          "text": [
            "False\n",
            "False\n",
            "I LOVE QUARTZ\n",
            "i love quartz\n"
          ]
        }
      ]
    },
    {
      "cell_type": "code",
      "source": [
        "\n",
        "str = \"THIS is RoseQuartZ!!!\"\n",
        "print(str.islower())\n",
        "\n",
        "str = \"this is RoseQuartZ!!!\"\n",
        "print (str.islower())"
      ],
      "metadata": {
        "colab": {
          "base_uri": "https://localhost:8080/"
        },
        "id": "ettUxT2kfJYJ",
        "outputId": "9b6f12fe-5d77-43ae-e29d-55fed53a89cd"
      },
      "execution_count": 7,
      "outputs": [
        {
          "output_type": "stream",
          "name": "stdout",
          "text": [
            "False\n",
            "False\n"
          ]
        }
      ]
    },
    {
      "cell_type": "code",
      "source": [
        "str = \"this is RoseQuartZ!!!\"\n",
        "print(str.swapcase() )\n",
        "\n",
        "str = \"THIS IS ROSEQUARTZ!!!\"\n",
        "print( str.swapcase())"
      ],
      "metadata": {
        "colab": {
          "base_uri": "https://localhost:8080/"
        },
        "id": "czm8N6idfMsK",
        "outputId": "84db3280-984c-463b-b2f9-32a63f829921"
      },
      "execution_count": 8,
      "outputs": [
        {
          "output_type": "stream",
          "name": "stdout",
          "text": [
            "THIS IS rOSEqUARTz!!!\n",
            "this is rosequartz!!!\n"
          ]
        }
      ]
    },
    {
      "cell_type": "code",
      "source": [
        "str = \"This Is RoseQuartZ!!!\"\n",
        "print( str.istitle() )\n",
        "\n",
        "str = \"This is rosequartz!!!\"\n",
        "print( str.istitle() )"
      ],
      "metadata": {
        "colab": {
          "base_uri": "https://localhost:8080/"
        },
        "id": "IXW6fJ8NfO1S",
        "outputId": "f597ad63-c102-482a-da45-12eb0287b684"
      },
      "execution_count": 9,
      "outputs": [
        {
          "output_type": "stream",
          "name": "stdout",
          "text": [
            "False\n",
            "False\n"
          ]
        }
      ]
    },
    {
      "cell_type": "code",
      "source": [
        "\n",
        "str = \"This is RoseQuartZ!!!\"\n",
        "print( str.title() )"
      ],
      "metadata": {
        "colab": {
          "base_uri": "https://localhost:8080/"
        },
        "id": "fgkxuln-fSWG",
        "outputId": "2f81a9a9-11b5-4c02-dfdc-a0779ed4428a"
      },
      "execution_count": 10,
      "outputs": [
        {
          "output_type": "stream",
          "name": "stdout",
          "text": [
            "This Is Rosequartz!!!\n"
          ]
        }
      ]
    },
    {
      "cell_type": "code",
      "source": [
        "print ( 'rosequartz!!!!!'.capitalize() ) #rosequartz!!!!!\n",
        "print ( 'ROSEQUARTZ!!!!!'.capitalize() ) #ROSEQUARTZ!!!!!"
      ],
      "metadata": {
        "id": "8KqCU_cofVqa",
        "outputId": "b50af846-36d4-4960-986d-00ae1ae49188",
        "colab": {
          "base_uri": "https://localhost:8080/"
        }
      },
      "execution_count": 11,
      "outputs": [
        {
          "output_type": "stream",
          "name": "stdout",
          "text": [
            "Rosequartz!!!!!\n",
            "Rosequartz!!!!!\n"
          ]
        }
      ]
    }
  ]
}